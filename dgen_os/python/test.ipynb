{
 "cells": [
  {
   "cell_type": "code",
   "execution_count": null,
   "id": "c1fc0ba5",
   "metadata": {},
   "outputs": [],
   "source": []
  },
  {
   "cell_type": "code",
   "execution_count": null,
   "id": "a62e2576",
   "metadata": {},
   "outputs": [],
   "source": [
    "os.chdir"
   ]
  },
  {
   "cell_type": "code",
   "execution_count": null,
   "id": "cb9714f0",
   "metadata": {},
   "outputs": [],
   "source": [
    "import time\n",
    "import os\n",
    "import pandas as pd\n",
    "import psycopg2.extras as pgx\n",
    "import numpy as np\n",
    "import data_functions as datfunc\n",
    "import utility_functions as utilfunc\n",
    "import settings\n",
    "import agent_mutation\n",
    "import diffusion_functions_elec\n",
    "import financial_functions\n",
    "import input_data_functions as iFuncs\n",
    "import PySAM"
   ]
  },
  {
   "cell_type": "code",
   "execution_count": null,
   "id": "53145d2f",
   "metadata": {},
   "outputs": [
    {
     "data": {
      "text/plain": [
       "'/Users/talorgruenwald/src/permit_power/dgen'"
      ]
     },
     "execution_count": 3,
     "metadata": {},
     "output_type": "execute_result"
    }
   ],
   "source": [
    "solar_agents = iFuncs.import_agent_file(scenario_settings, con, cur, engine, model_settings, agent_file_status, input_name='agent_file')   \n"
   ]
  },
  {
   "cell_type": "code",
   "execution_count": null,
   "id": "6b9570d1",
   "metadata": {},
   "outputs": [],
   "source": []
  }
 ],
 "metadata": {
  "kernelspec": {
   "display_name": "dg3n",
   "language": "python",
   "name": "python3"
  },
  "language_info": {
   "codemirror_mode": {
    "name": "ipython",
    "version": 3
   },
   "file_extension": ".py",
   "mimetype": "text/x-python",
   "name": "python",
   "nbconvert_exporter": "python",
   "pygments_lexer": "ipython3",
   "version": "3.12.11"
  }
 },
 "nbformat": 4,
 "nbformat_minor": 5
}
