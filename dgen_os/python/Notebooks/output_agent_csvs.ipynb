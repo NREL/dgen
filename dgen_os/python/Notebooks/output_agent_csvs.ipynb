{
 "cells": [
  {
   "cell_type": "code",
   "execution_count": 36,
   "id": "156de36e",
   "metadata": {},
   "outputs": [],
   "source": [
    "import pandas as pd"
   ]
  },
  {
   "cell_type": "code",
   "execution_count": 37,
   "id": "b99a01ea",
   "metadata": {},
   "outputs": [],
   "source": [
    "# Read agents and states\n",
    "agents = pd.read_pickle(\"../../input_agents/agent_df_base_res_national_load_adjusted.pkl\").reset_index(drop=False)\n",
    "states = pd.read_csv(\"../../../states.csv\", header = None, names = ['state_abbr', 'state_name'])\n",
    "\n",
    "# Join to state name\n",
    "agents = agents.merge(states, on='state_abbr', how='left')\n",
    "\n",
    "# Sort by number of agents per state\n",
    "sorted = agents.groupby(['state_abbr', 'state_name'], as_index = False).agg(agent_count=('agent_id', 'count')).sort_values(by='agent_count', ascending=False)"
   ]
  },
  {
   "cell_type": "code",
   "execution_count": 38,
   "id": "200311fa",
   "metadata": {},
   "outputs": [],
   "source": [
    "# Define large and small states\n",
    "large_states = sorted[sorted['agent_count'] > 100]\n",
    "small_states = sorted[sorted['agent_count'] <= 100]\n",
    "\n",
    "# Write \"large\" and \"small\" states to CSV\n",
    "large_states[['state_abbr', 'state_name']].to_csv(\"../../../large_states.csv\", index=False, header=False)\n",
    "small_states[['state_abbr', 'state_name']].to_csv(\"../../../small_states.csv\", index=False, header=False)\n",
    "\n",
    "# Write test csvs\n",
    "large_states[['state_abbr', 'state_name']].sample(n=3, random_state=42).to_csv(\"../../../large_states_test.csv\", index=False, header=False)\n",
    "small_states[['state_abbr', 'state_name']].sample(n=3, random_state=42).to_csv(\"../../../small_states_test.csv\", index=False, header=False) \n"
   ]
  },
  {
   "cell_type": "code",
   "execution_count": 39,
   "id": "f6b63f46",
   "metadata": {},
   "outputs": [
    {
     "name": "stdout",
     "output_type": "stream",
     "text": [
      "Copying file://../../../large_states.csv [Content-Type=text/csv]...\n",
      "/ [1 files][  535.0 B/  535.0 B]                                                \n",
      "Operation completed over 1 objects/535.0 B.                                      \n",
      "Copying file://../../../small_states.csv [Content-Type=text/csv]...\n",
      "/ [1 files][   67.0 B/   67.0 B]                                                \n",
      "Operation completed over 1 objects/67.0 B.                                       \n",
      "Copying file://../../../large_states_test.csv [Content-Type=text/csv]...\n",
      "/ [1 files][   32.0 B/   32.0 B]                                                \n",
      "Operation completed over 1 objects/32.0 B.                                       \n",
      "Copying file://../../../small_states_test.csv [Content-Type=text/csv]...\n",
      "/ [1 files][   45.0 B/   45.0 B]                                                \n",
      "Operation completed over 1 objects/45.0 B.                                       \n"
     ]
    }
   ],
   "source": [
    "# Upload to GCE\n",
    "!gsutil cp ../../../large_states.csv gs://dgen-assets/large_states.csv\n",
    "!gsutil cp ../../../small_states.csv gs://dgen-assets/small_states.csv\n",
    "!gsutil cp ../../../large_states_test.csv gs://dgen-assets/large_states_test.csv\n",
    "!gsutil cp ../../../small_states_test.csv gs://dgen-assets/small_states_test.csv"
   ]
  },
  {
   "cell_type": "code",
   "execution_count": null,
   "id": "51dd4e2d",
   "metadata": {},
   "outputs": [],
   "source": []
  }
 ],
 "metadata": {
  "kernelspec": {
   "display_name": "dg3n",
   "language": "python",
   "name": "python3"
  },
  "language_info": {
   "codemirror_mode": {
    "name": "ipython",
    "version": 3
   },
   "file_extension": ".py",
   "mimetype": "text/x-python",
   "name": "python",
   "nbconvert_exporter": "python",
   "pygments_lexer": "ipython3",
   "version": "3.12.11"
  }
 },
 "nbformat": 4,
 "nbformat_minor": 5
}
