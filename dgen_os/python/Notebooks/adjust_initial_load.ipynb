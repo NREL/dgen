{
 "cells": [
  {
   "cell_type": "code",
   "execution_count": 26,
   "id": "600d9d6d",
   "metadata": {},
   "outputs": [],
   "source": [
    "import pandas as pd"
   ]
  },
  {
   "cell_type": "code",
   "execution_count": 27,
   "id": "6dac4b2a",
   "metadata": {},
   "outputs": [],
   "source": [
    "# Load data\n",
    "df = pd.read_pickle('agent_df_base_res_national_revised_v2.pkl')\n",
    "load = pd.read_csv('../../../data/load_growth_to_model.csv')\n"
   ]
  },
  {
   "cell_type": "code",
   "execution_count": 28,
   "id": "edb4ad5c",
   "metadata": {},
   "outputs": [],
   "source": [
    "# Join load data to agent data\n",
    "df_load_multiplier = (\n",
    "    df.merge(load[load['year'] == 2026][['county_id', 'load_multiplier']], on = ['county_id'])\n",
    ")\n",
    "\n",
    "# Adjust load upwards\n",
    "df_load_multiplier['load_kwh_in_bin_initial'] = df_load_multiplier['load_multiplier']*df_load_multiplier['load_kwh_in_bin_initial']\n",
    "df_load_multiplier['load_kwh_per_customer_in_bin_initial'] = df_load_multiplier['load_multiplier']*df_load_multiplier['load_kwh_per_customer_in_bin_initial']"
   ]
  },
  {
   "cell_type": "code",
   "execution_count": 29,
   "id": "4591e86e",
   "metadata": {},
   "outputs": [],
   "source": [
    "# Write agent file\n",
    "df_load_multiplier.drop('load_multiplier', axis = 1).to_pickle('../../input_agents/agent_df_base_res_national_load_adjusted.pkl')"
   ]
  }
 ],
 "metadata": {
  "kernelspec": {
   "display_name": "dg3n",
   "language": "python",
   "name": "python3"
  },
  "language_info": {
   "codemirror_mode": {
    "name": "ipython",
    "version": 3
   },
   "file_extension": ".py",
   "mimetype": "text/x-python",
   "name": "python",
   "nbconvert_exporter": "python",
   "pygments_lexer": "ipython3",
   "version": "3.12.11"
  }
 },
 "nbformat": 4,
 "nbformat_minor": 5
}
