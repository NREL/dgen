{
 "cells": [
  {
   "cell_type": "code",
   "execution_count": 157,
   "id": "277acbd9",
   "metadata": {},
   "outputs": [],
   "source": [
    "import pandas as pd\n",
    "import numpy as np"
   ]
  },
  {
   "cell_type": "code",
   "execution_count": 158,
   "id": "b82acae6",
   "metadata": {},
   "outputs": [],
   "source": [
    "# Load data\n",
    "county_ba = pd.read_csv('../../../data/county_to_ba.csv')\n",
    "ba_to_state = pd.read_csv('../../../data/ba_to_state.csv')\n",
    "aeo_2023 = pd.read_csv('../../../data/demand_AEO_2023_reference.csv')\n",
    "county_map = pd.read_csv('../../../data/dgen_county_fips_mapping.csv')\n",
    "load_growth = pd.read_csv('../../../data/load_growth_to_model.csv')"
   ]
  },
  {
   "cell_type": "code",
   "execution_count": 159,
   "id": "ba19d08e",
   "metadata": {},
   "outputs": [],
   "source": [
    "# First extract unique combinations from balance area to state mapping\n",
    "ba_to_state_unique = ba_to_state[['ba', 'state']].drop_duplicates(subset=['ba', 'state'])"
   ]
  },
  {
   "cell_type": "code",
   "execution_count": 160,
   "id": "fc50e997",
   "metadata": {},
   "outputs": [],
   "source": [
    "# Re-base AEO 2023 data to 2026\n",
    "\n",
    "# Get the 2026 multiplier per state\n",
    "base_multipliers = aeo_2023[aeo_2023['year'] == 2026][['state', 'multiplier']].rename(columns={'multiplier': 'base_multiplier'})\n",
    "\n",
    "# Merge with the original DataFrame\n",
    "aeo_2023 = aeo_2023.merge(base_multipliers, on='state', how='left')\n",
    "\n",
    "# Rebase the multiplier\n",
    "aeo_2023['multiplier'] = aeo_2023['multiplier'] / aeo_2023['base_multiplier']\n",
    "\n",
    "# Only years after 2025\n",
    "aeo_2023 = aeo_2023[aeo_2023['year'] > 2025]\n",
    "\n",
    "# Join load growth data with ba_to_state_unique to get ba associated with load growth multipliers\n",
    "aeo_2023_ba = aeo_2023.merge(ba_to_state_unique, on='state', how='inner')\n",
    "\n",
    "# Add sector\n",
    "aeo_2023_ba['sector_abbr'] = 'res'\n",
    "aeo_2023_ba['load_growth_scenario_2023'] = 'AEO2023 Reference'\n"
   ]
  },
  {
   "cell_type": "code",
   "execution_count": 161,
   "id": "76d67927",
   "metadata": {},
   "outputs": [],
   "source": [
    "# Join aeo data with county_ba mapping to get load growth multipliers for each county\n",
    "aeo_2023_county = aeo_2023_ba.merge(county_ba, on='ba', how='inner')"
   ]
  },
  {
   "cell_type": "code",
   "execution_count": 162,
   "id": "95ed1780",
   "metadata": {},
   "outputs": [],
   "source": [
    "# Join aeo data to NERC regions and format eventual df for export\n",
    "load_growth = (\n",
    "    load_growth[['year', 'sector_abbr', 'county_id', 'nerc_region_desc', 'nerc_region_abbr', 'load_multiplier', 'load_growth_scenario']][load_growth['year'] > 2025]\n",
    "    .merge(aeo_2023_county[['county_id', 'year', 'sector_abbr', 'multiplier', 'load_growth_scenario_2023']], on=['county_id', 'year', 'sector_abbr'], how='left')\n",
    ")"
   ]
  },
  {
   "cell_type": "code",
   "execution_count": 163,
   "id": "7c887cba",
   "metadata": {},
   "outputs": [],
   "source": [
    "# Substitute 2023-based load multipliers for residential sector\n",
    "load_growth['load_multiplier'] = np.where(load_growth['sector_abbr'] == 'res', load_growth['multiplier'], load_growth['load_multiplier'])\n",
    "load_growth['load_growth_scenario'] = np.where(load_growth['sector_abbr'] == 'res', load_growth['load_growth_scenario_2023'], load_growth['load_growth_scenario'])\n",
    "\n",
    "# Ensure dtypes are correct\n",
    "load_growth['load_multiplier'] = load_growth['load_multiplier'].astype(float)"
   ]
  },
  {
   "cell_type": "code",
   "execution_count": 164,
   "id": "d76d3dbd",
   "metadata": {},
   "outputs": [],
   "source": [
    "# Write the load growth file\n",
    "load_growth[['year', 'sector_abbr', 'county_id', 'nerc_region_desc', 'nerc_region_abbr', 'load_growth_scenario', 'load_multiplier']].to_csv('../../../data/load_growth_to_model_adjusted.csv', index = False)"
   ]
  }
 ],
 "metadata": {
  "kernelspec": {
   "display_name": "dg3n",
   "language": "python",
   "name": "python3"
  },
  "language_info": {
   "codemirror_mode": {
    "name": "ipython",
    "version": 3
   },
   "file_extension": ".py",
   "mimetype": "text/x-python",
   "name": "python",
   "nbconvert_exporter": "python",
   "pygments_lexer": "ipython3",
   "version": "3.12.11"
  }
 },
 "nbformat": 4,
 "nbformat_minor": 5
}
